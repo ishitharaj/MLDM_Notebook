{
  "cells": [
    {
      "cell_type": "markdown",
      "metadata": {
        "id": "wKleqZ7F-R8b"
      },
      "source": [
        "# Setting up Environment for google.colab"
      ]
    },
    {
      "cell_type": "code",
      "execution_count": null,
      "metadata": {
        "id": "qYA7D4Yo0EtP"
      },
      "outputs": [],
      "source": [
        "![ -d sample_data ] && rm -rf sample_data\n",
        "\n",
        "!echo '{\"username\":\"garakhantalibov\",\"key\":\"819f819ec679662985b5abea0c29d37b\"}' > kaggle.json"
      ]
    },
    {
      "cell_type": "code",
      "execution_count": null,
      "metadata": {
        "colab": {
          "base_uri": "https://localhost:8080/"
        },
        "id": "0bEgAlwy0-mE",
        "outputId": "7d558061-7e05-42b6-e232-c4c6ebe27ab8"
      },
      "outputs": [
        {
          "output_type": "stream",
          "name": "stdout",
          "text": [
            "\r0it [00:00, ?it/s]\n"
          ]
        }
      ],
      "source": [
        "![ ! -d /root/.kaggle ] && mkdir /root/.kaggle && mv kaggle.json /root/.kaggle/\n",
        "!chmod 600 /root/.kaggle/kaggle.json\n",
        "!pip install kaggle==1.5.6 &> /dev/null | tqdm #\n",
        "\n",
        "# !pip install timm\n",
        "# !pip install efficientnet_pytorch &>/dev/null\n",
        "# !pip install transformers &>/dev/null\n",
        "# !pip install huggingface-hub &>/dev/null"
      ]
    },
    {
      "cell_type": "markdown",
      "metadata": {
        "id": "Wj-hEDe-5tSS"
      },
      "source": [
        "# Importing Utils and Reading Data"
      ]
    },
    {
      "cell_type": "code",
      "execution_count": null,
      "metadata": {
        "colab": {
          "base_uri": "https://localhost:8080/"
        },
        "id": "RfXK4PBJB70L",
        "outputId": "7d5f1c88-b56c-4e39-87b6-5d674721777f"
      },
      "outputs": [
        {
          "output_type": "stream",
          "name": "stdout",
          "text": [
            "Available gpu is :Tesla P100-PCIE-16GB.\n"
          ]
        }
      ],
      "source": [
        "import torch\n",
        "\n",
        "dev=\"cuda\" if torch.cuda.is_available() else \"cpu\"\n",
        "if dev==\"cuda\":\n",
        "  print (f\"Available gpu is :{torch.cuda.get_device_name (dev)}.\")\n",
        "else:\n",
        "  print (f\"GPU not available :{torch.cuda.get_device_name(dev)}.\")"
      ]
    },
    {
      "cell_type": "code",
      "execution_count": null,
      "metadata": {
        "colab": {
          "base_uri": "https://localhost:8080/"
        },
        "id": "n2SsA6cA1kLe",
        "outputId": "eb9e5696-2180-4cb8-b773-35ef7d8b39c4"
      },
      "outputs": [
        {
          "output_type": "stream",
          "name": "stdout",
          "text": [
            "effnetb0.zip: Skipping, found more recently modified local copy (use --force to force download)\n",
            "Archive:  effnetb0.zip\n",
            "caution: filename not matched:  shopee-product-matching.zip\n"
          ]
        }
      ],
      "source": [
        "!kaggle datasets download cdeotte/effnetb0\n",
        "!unzip *.zip"
      ]
    },
    {
      "cell_type": "code",
      "execution_count": null,
      "metadata": {
        "colab": {
          "base_uri": "https://localhost:8080/"
        },
        "id": "psBLy-HA0YLz",
        "outputId": "deae5768-b412-4f98-dda5-2acc8bdda2ad"
      },
      "outputs": [
        {
          "output_type": "stream",
          "name": "stdout",
          "text": [
            "Downloading dataset...        +[DONE]\n",
            "Unzipping dataset...          replace sample_submission.csv? [y]es, [n]o, [A]ll, [N]one, [r]ename: A\n",
            "+[DONE]\n"
          ]
        }
      ],
      "source": [
        "#Download dataset\n",
        "print('{:<30}'.format(\"Downloading dataset...\"), end=\"\")\n",
        "! [ ! -f shopee-product-matching.zip ] && kaggle competitions download -c shopee-product-matching\n",
        "print (\"+[DONE]\")\n",
        "print ('{:<30}'.format(\"Unzipping dataset...\"), end=\"\")\n",
        "! [ ! -d shopee-product-matching ] && unzip -q shopee-product-matching.zip\n",
        "print (\"+[DONE]\")"
      ]
    },
    {
      "cell_type": "code",
      "execution_count": null,
      "metadata": {
        "id": "SMlO-p6LRzT2"
      },
      "outputs": [],
      "source": [
        "import pandas as pd\n",
        "import matplotlib.pyplot as plt\n",
        "import numpy as np\n",
        "import cv2 as cv\n",
        "import tensorflow as tf\n",
        "from tensorflow.keras.applications import EfficientNetB0\n",
        "from sklearn.feature_extraction.text import TfidfVectorizer\n",
        "from sklearn.neighbors import NearestNeighbors\n",
        "from IPython.display import clear_output\n",
        "from sklearn.metrics.pairwise import cosine_similarity\n",
        "import sys"
      ]
    },
    {
      "cell_type": "code",
      "execution_count": null,
      "metadata": {
        "id": "8F4GGheXe45J"
      },
      "outputs": [],
      "source": [
        "# When submitting path will read test images\n",
        "\n",
        "SUBMIT=False\n",
        "csv=\"train.csv\"\n",
        "img_dir=\"./train_images/\"\n",
        "if SUBMIT:\n",
        "  csv=\"input/shopee-product-matching/test.csv\"\n",
        "  img_dir=\"input/shopee-product-matching/test_images/\""
      ]
    },
    {
      "cell_type": "code",
      "source": [
        "tmp = dataset.groupby('label_group').posting_id.agg('unique').to_dict()\n",
        "dataset['target'] = dataset.label_group.map(tmp)"
      ],
      "metadata": {
        "id": "rYKykzXQSxkR"
      },
      "execution_count": null,
      "outputs": []
    },
    {
      "cell_type": "code",
      "execution_count": null,
      "metadata": {
        "colab": {
          "base_uri": "https://localhost:8080/",
          "height": 531
        },
        "id": "Lvk5qE5QSE7x",
        "outputId": "b4eacf78-ab33-48c5-e066-89cf63afcd38"
      },
      "outputs": [
        {
          "output_type": "execute_result",
          "data": {
            "text/html": [
              "\n",
              "  <div id=\"df-e1e7a3ac-5e96-4184-9b63-df8de1342e0e\">\n",
              "    <div class=\"colab-df-container\">\n",
              "      <div>\n",
              "<style scoped>\n",
              "    .dataframe tbody tr th:only-of-type {\n",
              "        vertical-align: middle;\n",
              "    }\n",
              "\n",
              "    .dataframe tbody tr th {\n",
              "        vertical-align: top;\n",
              "    }\n",
              "\n",
              "    .dataframe thead th {\n",
              "        text-align: right;\n",
              "    }\n",
              "</style>\n",
              "<table border=\"1\" class=\"dataframe\">\n",
              "  <thead>\n",
              "    <tr style=\"text-align: right;\">\n",
              "      <th></th>\n",
              "      <th>posting_id</th>\n",
              "      <th>image</th>\n",
              "      <th>image_phash</th>\n",
              "      <th>title</th>\n",
              "      <th>label_group</th>\n",
              "    </tr>\n",
              "  </thead>\n",
              "  <tbody>\n",
              "    <tr>\n",
              "      <th>0</th>\n",
              "      <td>train_129225211</td>\n",
              "      <td>0000a68812bc7e98c42888dfb1c07da0.jpg</td>\n",
              "      <td>94974f937d4c2433</td>\n",
              "      <td>Paper Bag Victoria Secret</td>\n",
              "      <td>249114794</td>\n",
              "    </tr>\n",
              "    <tr>\n",
              "      <th>1</th>\n",
              "      <td>train_3386243561</td>\n",
              "      <td>00039780dfc94d01db8676fe789ecd05.jpg</td>\n",
              "      <td>af3f9460c2838f0f</td>\n",
              "      <td>Double Tape 3M VHB 12 mm x 4,5 m ORIGINAL / DO...</td>\n",
              "      <td>2937985045</td>\n",
              "    </tr>\n",
              "    <tr>\n",
              "      <th>2</th>\n",
              "      <td>train_2288590299</td>\n",
              "      <td>000a190fdd715a2a36faed16e2c65df7.jpg</td>\n",
              "      <td>b94cb00ed3e50f78</td>\n",
              "      <td>Maling TTS Canned Pork Luncheon Meat 397 gr</td>\n",
              "      <td>2395904891</td>\n",
              "    </tr>\n",
              "    <tr>\n",
              "      <th>3</th>\n",
              "      <td>train_2406599165</td>\n",
              "      <td>00117e4fc239b1b641ff08340b429633.jpg</td>\n",
              "      <td>8514fc58eafea283</td>\n",
              "      <td>Daster Batik Lengan pendek - Motif Acak / Camp...</td>\n",
              "      <td>4093212188</td>\n",
              "    </tr>\n",
              "    <tr>\n",
              "      <th>4</th>\n",
              "      <td>train_3369186413</td>\n",
              "      <td>00136d1cf4edede0203f32f05f660588.jpg</td>\n",
              "      <td>a6f319f924ad708c</td>\n",
              "      <td>Nescafe \\xc3\\x89clair Latte 220ml</td>\n",
              "      <td>3648931069</td>\n",
              "    </tr>\n",
              "  </tbody>\n",
              "</table>\n",
              "</div>\n",
              "      <button class=\"colab-df-convert\" onclick=\"convertToInteractive('df-e1e7a3ac-5e96-4184-9b63-df8de1342e0e')\"\n",
              "              title=\"Convert this dataframe to an interactive table.\"\n",
              "              style=\"display:none;\">\n",
              "        \n",
              "  <svg xmlns=\"http://www.w3.org/2000/svg\" height=\"24px\"viewBox=\"0 0 24 24\"\n",
              "       width=\"24px\">\n",
              "    <path d=\"M0 0h24v24H0V0z\" fill=\"none\"/>\n",
              "    <path d=\"M18.56 5.44l.94 2.06.94-2.06 2.06-.94-2.06-.94-.94-2.06-.94 2.06-2.06.94zm-11 1L8.5 8.5l.94-2.06 2.06-.94-2.06-.94L8.5 2.5l-.94 2.06-2.06.94zm10 10l.94 2.06.94-2.06 2.06-.94-2.06-.94-.94-2.06-.94 2.06-2.06.94z\"/><path d=\"M17.41 7.96l-1.37-1.37c-.4-.4-.92-.59-1.43-.59-.52 0-1.04.2-1.43.59L10.3 9.45l-7.72 7.72c-.78.78-.78 2.05 0 2.83L4 21.41c.39.39.9.59 1.41.59.51 0 1.02-.2 1.41-.59l7.78-7.78 2.81-2.81c.8-.78.8-2.07 0-2.86zM5.41 20L4 18.59l7.72-7.72 1.47 1.35L5.41 20z\"/>\n",
              "  </svg>\n",
              "      </button>\n",
              "      \n",
              "  <style>\n",
              "    .colab-df-container {\n",
              "      display:flex;\n",
              "      flex-wrap:wrap;\n",
              "      gap: 12px;\n",
              "    }\n",
              "\n",
              "    .colab-df-convert {\n",
              "      background-color: #E8F0FE;\n",
              "      border: none;\n",
              "      border-radius: 50%;\n",
              "      cursor: pointer;\n",
              "      display: none;\n",
              "      fill: #1967D2;\n",
              "      height: 32px;\n",
              "      padding: 0 0 0 0;\n",
              "      width: 32px;\n",
              "    }\n",
              "\n",
              "    .colab-df-convert:hover {\n",
              "      background-color: #E2EBFA;\n",
              "      box-shadow: 0px 1px 2px rgba(60, 64, 67, 0.3), 0px 1px 3px 1px rgba(60, 64, 67, 0.15);\n",
              "      fill: #174EA6;\n",
              "    }\n",
              "\n",
              "    [theme=dark] .colab-df-convert {\n",
              "      background-color: #3B4455;\n",
              "      fill: #D2E3FC;\n",
              "    }\n",
              "\n",
              "    [theme=dark] .colab-df-convert:hover {\n",
              "      background-color: #434B5C;\n",
              "      box-shadow: 0px 1px 3px 1px rgba(0, 0, 0, 0.15);\n",
              "      filter: drop-shadow(0px 1px 2px rgba(0, 0, 0, 0.3));\n",
              "      fill: #FFFFFF;\n",
              "    }\n",
              "  </style>\n",
              "\n",
              "      <script>\n",
              "        const buttonEl =\n",
              "          document.querySelector('#df-e1e7a3ac-5e96-4184-9b63-df8de1342e0e button.colab-df-convert');\n",
              "        buttonEl.style.display =\n",
              "          google.colab.kernel.accessAllowed ? 'block' : 'none';\n",
              "\n",
              "        async function convertToInteractive(key) {\n",
              "          const element = document.querySelector('#df-e1e7a3ac-5e96-4184-9b63-df8de1342e0e');\n",
              "          const dataTable =\n",
              "            await google.colab.kernel.invokeFunction('convertToInteractive',\n",
              "                                                     [key], {});\n",
              "          if (!dataTable) return;\n",
              "\n",
              "          const docLinkHtml = 'Like what you see? Visit the ' +\n",
              "            '<a target=\"_blank\" href=https://colab.research.google.com/notebooks/data_table.ipynb>data table notebook</a>'\n",
              "            + ' to learn more about interactive tables.';\n",
              "          element.innerHTML = '';\n",
              "          dataTable['output_type'] = 'display_data';\n",
              "          await google.colab.output.renderOutput(dataTable, element);\n",
              "          const docLink = document.createElement('div');\n",
              "          docLink.innerHTML = docLinkHtml;\n",
              "          element.appendChild(docLink);\n",
              "        }\n",
              "      </script>\n",
              "    </div>\n",
              "  </div>\n",
              "  "
            ],
            "text/plain": [
              "         posting_id  ... label_group\n",
              "0   train_129225211  ...   249114794\n",
              "1  train_3386243561  ...  2937985045\n",
              "2  train_2288590299  ...  2395904891\n",
              "3  train_2406599165  ...  4093212188\n",
              "4  train_3369186413  ...  3648931069\n",
              "\n",
              "[5 rows x 5 columns]"
            ]
          },
          "metadata": {},
          "execution_count": 9
        }
      ],
      "source": [
        "dataset=pd.read_csv (csv)\n",
        "dataset.head(5)"
      ]
    },
    {
      "cell_type": "markdown",
      "metadata": {
        "id": "lSbw2urw-CJx"
      },
      "source": [
        "# Text Embedding"
      ]
    },
    {
      "cell_type": "code",
      "execution_count": null,
      "metadata": {
        "colab": {
          "base_uri": "https://localhost:8080/"
        },
        "id": "WMYbhZi0_q6X",
        "outputId": "687751ee-1004-4599-fbcd-b732fa7fe12e"
      },
      "outputs": [
        {
          "output_type": "execute_result",
          "data": {
            "text/plain": [
              "array(['Paper Bag Victoria Secret',\n",
              "       'Double Tape 3M VHB 12 mm x 4,5 m ORIGINAL / DOUBLE FOAM TAPE',\n",
              "       'Maling TTS Canned Pork Luncheon Meat 397 gr', ...,\n",
              "       'KHANZAACC Robot RE101S 1.2mm Subwoofer Bass Metal Wired Headset',\n",
              "       'Kaldu NON MSG HALAL Mama Kamu Ayam Kampung , Sapi Lokal,  Jamur (Bkn Alsultan / Biocell)',\n",
              "       'FLEX TAPE PELAPIS BOCOR / ISOLASI AJAIB / ANTI BOCOR'],\n",
              "      dtype=object)"
            ]
          },
          "metadata": {},
          "execution_count": 10
        }
      ],
      "source": [
        "dataset.title.values"
      ]
    },
    {
      "cell_type": "code",
      "execution_count": null,
      "metadata": {
        "id": "skDTw91o-Dyd"
      },
      "outputs": [],
      "source": [
        "text_model=TfidfVectorizer()\n",
        "X=text_model.fit_transform(dataset.title.values)"
      ]
    },
    {
      "cell_type": "code",
      "execution_count": null,
      "metadata": {
        "id": "9ik6NJpZ_0_Z"
      },
      "outputs": [],
      "source": [
        "KNN=50\n",
        "neighbors_model=NearestNeighbors(n_neighbors=KNN)\n",
        "nbrs=neighbors_model.fit(X)\n",
        "text_distances, text_indices=nbrs.kneighbors(X)"
      ]
    },
    {
      "cell_type": "code",
      "source": [
        "text_distances[2]"
      ],
      "metadata": {
        "colab": {
          "base_uri": "https://localhost:8080/"
        },
        "id": "Qh_rU2AyJhPO",
        "outputId": "6cf7b294-4899-4cdf-a947-457ea5f31ca3"
      },
      "execution_count": null,
      "outputs": [
        {
          "output_type": "execute_result",
          "data": {
            "text/plain": [
              "array([0.        , 0.82217635, 1.25703821, 1.28080405, 1.28631348,\n",
              "       1.28909208, 1.2975505 , 1.30973434, 1.31892068, 1.31929765,\n",
              "       1.32237986, 1.32923212, 1.33190789, 1.33496716, 1.33546747,\n",
              "       1.33673941, 1.33852232, 1.34003019, 1.34003019, 1.34072808,\n",
              "       1.34082006, 1.34132191, 1.34153475, 1.34153959, 1.35082743,\n",
              "       1.35292456, 1.35309501, 1.35578771, 1.35758929, 1.35758929,\n",
              "       1.35758929, 1.36175874, 1.36408761, 1.36457184, 1.3646484 ,\n",
              "       1.36493947, 1.36548974, 1.36548974, 1.36567794, 1.36724572,\n",
              "       1.36788753, 1.36806297, 1.36806927, 1.36807765, 1.36827238,\n",
              "       1.36827238, 1.36866281, 1.36878968, 1.36892309, 1.36901089])"
            ]
          },
          "metadata": {},
          "execution_count": 12
        }
      ]
    },
    {
      "cell_type": "code",
      "source": [
        "sim=cosine_similarity(X)"
      ],
      "metadata": {
        "id": "gyR6_VIPH24Y"
      },
      "execution_count": null,
      "outputs": []
    },
    {
      "cell_type": "code",
      "source": [
        "np.argwhere(sim[0:2]>0.5).tolist()"
      ],
      "metadata": {
        "colab": {
          "base_uri": "https://localhost:8080/"
        },
        "id": "rqPPvDuOJ6YC",
        "outputId": "f8171d50-349b-4871-9cd3-cbd8a10abc55"
      },
      "execution_count": null,
      "outputs": [
        {
          "output_type": "execute_result",
          "data": {
            "text/plain": [
              "[[0, 0],\n",
              " [0, 33161],\n",
              " [1, 1],\n",
              " [1, 194],\n",
              " [1, 469],\n",
              " [1, 4774],\n",
              " [1, 4878],\n",
              " [1, 10444],\n",
              " [1, 10647],\n",
              " [1, 18032],\n",
              " [1, 18683],\n",
              " [1, 19262],\n",
              " [1, 21790],\n",
              " [1, 23323],\n",
              " [1, 23593],\n",
              " [1, 25199]]"
            ]
          },
          "metadata": {},
          "execution_count": 19
        }
      ]
    },
    {
      "cell_type": "code",
      "source": [
        "def sizeof_fmt(num, suffix='B'):\n",
        "    ''' by Fred Cirera,  https://stackoverflow.com/a/1094933/1870254, modified'''\n",
        "    for unit in ['','Ki','Mi','Gi','Ti','Pi','Ei','Zi']:\n",
        "        if abs(num) < 1024.0:\n",
        "            return \"%3.1f %s%s\" % (num, unit, suffix)\n",
        "        num /= 1024.0\n",
        "    return \"%.1f %s%s\" % (num, 'Yi', suffix)"
      ],
      "metadata": {
        "id": "Mz31dN-pNc2q"
      },
      "execution_count": null,
      "outputs": []
    },
    {
      "cell_type": "code",
      "source": [
        "m=0\n",
        "for i in idxs:\n",
        "  for j in i:\n",
        "    m+=sys.getsizeof(j)"
      ],
      "metadata": {
        "id": "vlM8ZAmbQD5g"
      },
      "execution_count": null,
      "outputs": []
    },
    {
      "cell_type": "code",
      "source": [
        "sizeof_fmt(sys.getsizeof(sim))"
      ],
      "metadata": {
        "colab": {
          "base_uri": "https://localhost:8080/",
          "height": 167
        },
        "id": "P4VrW9DMQ9is",
        "outputId": "5c210efe-812c-485e-f43e-d8a3ec8f9689"
      },
      "execution_count": null,
      "outputs": [
        {
          "output_type": "error",
          "ename": "NameError",
          "evalue": "ignored",
          "traceback": [
            "\u001b[0;31m---------------------------------------------------------------------------\u001b[0m",
            "\u001b[0;31mNameError\u001b[0m                                 Traceback (most recent call last)",
            "\u001b[0;32m<ipython-input-1-b5130f2d356e>\u001b[0m in \u001b[0;36m<module>\u001b[0;34m()\u001b[0m\n\u001b[0;32m----> 1\u001b[0;31m \u001b[0msizeof_fmt\u001b[0m\u001b[0;34m(\u001b[0m\u001b[0msys\u001b[0m\u001b[0;34m.\u001b[0m\u001b[0mgetsizeof\u001b[0m\u001b[0;34m(\u001b[0m\u001b[0msim\u001b[0m\u001b[0;34m)\u001b[0m\u001b[0;34m)\u001b[0m\u001b[0;34m\u001b[0m\u001b[0;34m\u001b[0m\u001b[0m\n\u001b[0m",
            "\u001b[0;31mNameError\u001b[0m: name 'sizeof_fmt' is not defined"
          ]
        }
      ]
    },
    {
      "cell_type": "code",
      "source": [
        "scores=[]\n",
        "threshold=np.arange(0.5, 1, 0.1)\n",
        "for thresh in threshold:\n",
        "  idxs=[]\n",
        "  for i in range (sim.shape[0]):\n",
        "    idxs.append(np.argwhere(sim[i]>=thresh).reshape(1, -1).tolist()[0])\n",
        "  pst=[]\n",
        "  for i in idxs:\n",
        "    pst.append(dataset.posting_id.iloc[i].tolist())\n",
        "  dataset['predictions']=pst\n",
        "  f1=[]\n",
        "  for i in range (len(dataset)):\n",
        "      a=len(np.intersect1d(dataset.iloc[i].target, dataset.iloc[i].predictions))\n",
        "      b=len(dataset.iloc[i].target) + len(dataset.iloc[i].predictions)\n",
        "      f1.append(2*a/b)\n",
        "  scores.append(np.mean(f1))\n",
        "  \n",
        "  clear_output (True)\n",
        "  print(f\"Currently F1 score at distance < {thresh}: {scores[-1]}\")\n",
        "  print (f\"Max F1 score {max(scores)} at threshold < {threshold[scores.index(max(scores))]}\")\n",
        "  plt.plot (threshold[:len(scores)], scores)\n",
        "  plt.xlabel(\"Threshold\")\n",
        "  plt.ylabel(\"F1 Score\")\n",
        "  plt.show()"
      ],
      "metadata": {
        "colab": {
          "base_uri": "https://localhost:8080/",
          "height": 314
        },
        "id": "RPXKztNCJrDU",
        "outputId": "73a72350-10b2-47e9-df76-68ef0f65866a"
      },
      "execution_count": null,
      "outputs": [
        {
          "output_type": "stream",
          "name": "stdout",
          "text": [
            "Currently F1 score at distance < 0.8999999999999999: 0.5211588666284398\n",
            "Max F1 score 0.6452882123688697 at threshold < 0.6\n"
          ]
        },
        {
          "output_type": "display_data",
          "data": {
            "image/png": "[encoded data removed]",
            "text/plain": [
              "<Figure size 432x288 with 1 Axes>"
            ]
          },
          "metadata": {
            "needs_background": "light"
          }
        }
      ]
    },
    {
      "cell_type": "code",
      "source": [
        "# scores=[]\n",
        "# threshold=np.arange(0.4, 1.2, 0.1)\n",
        "# for thresh in threshold:\n",
        "#   idxs=[]\n",
        "#   for i in range (text_indices.shape[0]):\n",
        "#     idxs.append(text_indices[i][text_distances[i]<thresh].tolist())\n",
        "#   pst=[]\n",
        "#   for i in idxs:\n",
        "#     pst.append(dataset.posting_id.iloc[i].tolist())\n",
        "#   dataset['predictions']=pst\n",
        "#   f1=[]\n",
        "#   for i in range (len(dataset)):\n",
        "#       a=len(np.intersect1d(dataset.iloc[i].target, dataset.iloc[i].predictions))\n",
        "#       b=len(dataset.iloc[i].target) + len(dataset.iloc[i].predictions)\n",
        "#       f1.append(2*a/b)\n",
        "#   scores.append(np.mean(f1))\n",
        "  \n",
        "#   clear_output (True)\n",
        "#   print(f\"Currently F1 score at distance < {thresh}: {scores[-1]}\")\n",
        "#   print (f\"Max F1 score {max(scores)} at threshold < {threshold[scores.index(max(scores))]}\")\n",
        "#   plt.plot (threshold[:len(scores)], scores)\n",
        "#   plt.xlabel(\"Threshold\")\n",
        "#   plt.ylabel(\"F1 Score\")\n",
        "#   plt.show()"
      ],
      "metadata": {
        "id": "v8X8_vlzIMLM"
      },
      "execution_count": null,
      "outputs": []
    },
    {
      "cell_type": "code",
      "execution_count": null,
      "metadata": {
        "colab": {
          "base_uri": "https://localhost:8080/"
        },
        "id": "FQ-rVHsJB5AS",
        "outputId": "73e9e161-8b06-49f6-a280-01ec443fd2f3"
      },
      "outputs": [
        {
          "output_type": "stream",
          "name": "stdout",
          "text": [
            "PAPER BAG VICTORIA SECRET\n",
            "Paper Bag Victoria Secret\n",
            "READY! GRATIS ISI ULANG! Pengharum parfum mobil ruangan lemari tas victoria secret bombshell\n",
            "PAPER BAG THE BODY SHOP\n",
            "Paper Bag | Shopping Bag | Tas Kertas Polos Ukuran 18 x 5 x 22\n",
            "Paper Bag The Body Shop Small\n",
            "b\"victoria iria Goat's Milk Hand Body Lotion 250ml\"\n",
            "Paper Bag Tas Kertas Polos Ukuran 18x5x22\n",
            "VELROSE SECRET FACE MASK\n",
            "Dengan Paper Bag TABITA EXCLUSIVE ORIGINAL KEMASAN KECIL\n",
            "WARDAH WHITE SECRET FACIAL WASH 100ml\n",
            "TABITA SKIN CARE ORIGINAL LENGKAP DENGAN PAPER BAG ( KECIL) -\n",
            "MASKER WAJAH ORGANIK VELROSE SECRET\n",
            "Wardah white secret pure brightening cleanser\n",
            "Wardah White Secret Pure Brightening Cleanser\n",
            "Paper Waxing / Hair Removal Strip / Paper Wax / Pencabut Bulu\n",
            "Wardah White Secret Exfoliating Lotion 150 ml\n",
            "Wardah White Secret Exfoliating Lotion 150 ml\n",
            "Secret Clean Helmet Disinfectant 100ml\n",
            "WARDAH WHITE SECRET PURE BRIGHTENING CLEANSER 150ML\n",
            "TABITA SKIN CARE ORIGINAL SET (NON DS) LENGKAP DENGAN PAPER BAG\n",
            "PAPER KLIP PENJEPIT KERTAS WARNA WARNI / FILE KLIP PAPER RAINBOW\n",
            "PAPER KLIP PENJEPIT KERTAS WARNA WARNI / FILE KLIP PAPER RAINBOW\n",
            "Lulur wajah greentea velrose secret\n",
            "Wardah White Secret Pure Brightening Cleanser 150 ml\n",
            "Wardah White Secret Pure Brightening Cleanser 150 ml\n",
            "WArdah White Secret Pure Brightening Cleanser 150 ml\n",
            "TABITA SKIN CARE ORIGINAL SET (NON DS) LENGKAP DENGAN PAPER BAG (Kecil)\n",
            "Secret Clean Toilet Seat Disinfectant 100ml\n",
            "WARDAH WHITE SECRET FACIAL WASH WITH NATURAL AHA 100ML\n",
            "WARDAH WHITE SECRET FACIAL WASH WITH NATURAL AHA 100ml\n",
            "Sling bag\n",
            "KERTAS A4 100 GRAM PAPER ONE\n",
            "Hair Removal Strip / Waxing Strip / Paper Wax / Paper Waxing / Pencabut Bulu\n",
            "Velrose secret nature organik bengkoang lulur wajah\n",
            "Cussons Gift Bag Mini / Cussons Baby Mini Bag , Gift Set Bag\n",
            "Izzi Fine Fragrance Mist Secret Crush 100ml\n",
            "Wardah White Secret Facial Wash with Natural AHA Sabun Cuci Muka\n",
            "Tas Bekal Makanan / Lunch Bag / Cooler Bag\n",
            "6 in 1 Korean Travel Bag in Bag  isi 6 pcs  organizer\n",
            "(2750 Lembar) Kertas HVS A4 70 Gram COPY PAPER Extra 50 Seperti Sinar Dunia PaperOne Paper One\n",
            "Tempat Penyimpanan Selimut 83x40cm TP003 Peva Storage Bag Quilt Bag Cloth Bag\n",
            "CAMERA - Tote Bag / Totebag / Shopper Bag Wanita\n",
            "Tas Ransel Wanita Tas punggung Travel School Bag TRAVEL BAG SCHOOL BAG ORIGINAL IMPORT\n",
            "Gabag - Cooler Bag - Thermal Bag Lemon Backpack\n",
            "Gabag - Cooler Bag - Thermal Bag Passion\n",
            "[JNE JTR] Wardah White Secret Pure Brightening Cleanser 150 ml\n",
            "[NobleBeautiful] 2pcs/lot Paper Creaser Set for DIY Scrapbooking Card Making Photo Album Paper Folding Toll\n",
            "V-Coool Breastmilk Cooler Bag Thermal Insulated Cooler Bag Mummy bag\n",
            "Cussons Baby Mini Bag / Cussons Gift Bag Set\n"
          ]
        }
      ],
      "source": [
        "for i in text_indices[0]:\n",
        "  print (dataset.iloc[i]['title'])"
      ]
    },
    {
      "cell_type": "markdown",
      "metadata": {
        "id": "ySRRjbdWIQW4"
      },
      "source": [
        "# Image Embedding"
      ]
    },
    {
      "cell_type": "code",
      "execution_count": null,
      "metadata": {
        "id": "cIFs4eZlJPuJ"
      },
      "outputs": [],
      "source": [
        "BASE=\"./train_images/\""
      ]
    },
    {
      "cell_type": "code",
      "execution_count": null,
      "metadata": {
        "id": "LJHdZhwEIPwk"
      },
      "outputs": [],
      "source": [
        "class DataGenerator(tf.keras.utils.Sequence):\n",
        "    'Generates data for Keras'\n",
        "    def __init__(self, df, img_size=256, batch_size=32, path=BASE): \n",
        "        self.df = df\n",
        "        self.img_size = img_size\n",
        "        self.batch_size = batch_size\n",
        "        self.path = path\n",
        "        self.indexes = np.arange( len(self.df) )\n",
        "        \n",
        "    def __len__(self):\n",
        "        'Denotes the number of batches per epoch'\n",
        "        ct = len(self.df) // self.batch_size\n",
        "        ct += int(( (len(self.df)) % self.batch_size)!=0)\n",
        "        return ct\n",
        "\n",
        "    def __getitem__(self, index):\n",
        "        'Generate one batch of data'\n",
        "        indexes = self.indexes[index*self.batch_size:(index+1)*self.batch_size]\n",
        "        X = self.__data_generation(indexes)\n",
        "        return X\n",
        "            \n",
        "    def __data_generation(self, indexes):\n",
        "        'Generates data containing batch_size samples' \n",
        "        X = np.zeros((len(indexes),self.img_size,self.img_size,3),dtype='float32')\n",
        "        df = self.df.iloc[indexes]\n",
        "        for i,(index,row) in enumerate(df.iterrows()):\n",
        "            img = cv.imread(self.path+row.image)\n",
        "            X[i,] = cv.resize(img,(self.img_size,self.img_size)) #/128.0 - 1.0\n",
        "        return X"
      ]
    },
    {
      "cell_type": "code",
      "execution_count": null,
      "metadata": {
        "colab": {
          "base_uri": "https://localhost:8080/"
        },
        "id": "X05LynnTJwzO",
        "outputId": "dffb0e4c-fd6f-4276-ec3b-4111ff0f06a9"
      },
      "outputs": [
        {
          "output_type": "stream",
          "name": "stdout",
          "text": [
            "Downloading data from https://storage.googleapis.com/keras-applications/efficientnetb0_notop.h5\n",
            "16711680/16705208 [==============================] - 0s 0us/step\n",
            "16719872/16705208 [==============================] - 0s 0us/step\n",
            "268/268 [==============================] - 279s 1s/step\n",
            "image embeddings shape is (34250, 1280)\n"
          ]
        }
      ],
      "source": [
        "model = EfficientNetB0(weights='imagenet',include_top=False, pooling='avg', input_shape=None)\n",
        "train_gen = DataGenerator(dataset, batch_size=128)\n",
        "image_embeddings = model.predict(train_gen,verbose=1)\n",
        "print('image embeddings shape is',image_embeddings.shape)"
      ]
    },
    {
      "cell_type": "code",
      "execution_count": null,
      "metadata": {
        "id": "MUlP0AdjUSW5"
      },
      "outputs": [],
      "source": [
        "KNN=50\n",
        "neighbors_model=NearestNeighbors(n_neighbors=KNN)\n",
        "nbrs=neighbors_model.fit(image_embeddings)\n",
        "img_distances, img_indices=nbrs.kneighbors(image_embeddings)"
      ]
    },
    {
      "cell_type": "code",
      "execution_count": null,
      "metadata": {
        "id": "9yDKXVM6VJLV"
      },
      "outputs": [],
      "source": [
        "idxs=[]\n",
        "for i in range (img_indices.shape[0]):\n",
        "  idxs.append(img_indices[i][img_distances[i]<7].tolist())\n",
        "pst=[]\n",
        "for i in idxs:\n",
        "  pst.append(dataset.posting_id.iloc[i].tolist())\n",
        "dataset['predictions']=pst"
      ]
    },
    {
      "cell_type": "code",
      "source": [
        "# scores=[]\n",
        "# threshold=np.arange(1, 12)\n",
        "# for thresh in threshold:\n",
        "#   idxs=[]\n",
        "#   for i in range (img_indices.shape[0]):\n",
        "#     idxs.append(img_indices[i][img_distances[i]<thresh].tolist())\n",
        "#   pst=[]\n",
        "#   for i in idxs:\n",
        "#     pst.append(dataset.posting_id.iloc[i].tolist())\n",
        "#   dataset['predictions']=pst\n",
        "#   f1=[]\n",
        "#   for i in range (len(dataset)):\n",
        "#       a=len(np.intersect1d(dataset.iloc[i].target, dataset.iloc[i].predictions))\n",
        "#       b=len(dataset.iloc[i].target) + len(dataset.iloc[i].predictions)\n",
        "#       f1.append(2*a/b)\n",
        "#   scores.append(np.mean(f1))\n",
        "  \n",
        "#   clear_output (True)\n",
        "#   print(f\"Currently F1 score at distance < {thresh}: {scores[-1]}\")\n",
        "#   print (f\"Max F1 score {max(scores)} at threshold < {threshold[scores.index(max(scores))]}\")\n",
        "#   plt.plot (threshold[:len(scores)], scores)\n",
        "#   plt.xlabel(\"Threshold\")\n",
        "#   plt.ylabel(\"F1 Score\")\n",
        "#   plt.show()"
      ],
      "metadata": {
        "id": "MeLOVWBV3DS3"
      },
      "execution_count": null,
      "outputs": []
    },
    {
      "cell_type": "code",
      "execution_count": null,
      "metadata": {
        "colab": {
          "base_uri": "https://localhost:8080/",
          "height": 521
        },
        "id": "wxvxlRXKU4GQ",
        "outputId": "1ecd0f1e-a3c9-4d9e-c5c9-19266ff5911b"
      },
      "outputs": [
        {
          "output_type": "display_data",
          "data": {
            "image/png": "[encoded data removed]",
            "text/plain": [
              "<Figure size 432x288 with 1 Axes>"
            ]
          },
          "metadata": {
            "needs_background": "light"
          }
        },
        {
          "output_type": "display_data",
          "data": {
            "image/png": "[encoded data removed]",
            "text/plain": [
              "<Figure size 432x288 with 1 Axes>"
            ]
          },
          "metadata": {
            "needs_background": "light"
          }
        }
      ],
      "source": [
        "for i in idxs[1]:\n",
        "  img=plt.imread (BASE+dataset.iloc[i].image)\n",
        "  plt.imshow(img)\n",
        "  plt.show()"
      ]
    },
    {
      "cell_type": "markdown",
      "source": [
        "# Image Embedding 2"
      ],
      "metadata": {
        "id": "6ugdtE0eACDm"
      }
    },
    {
      "cell_type": "code",
      "source": [
        "model = EfficientNetB0(weights='efficientnetb0_notop.h5', include_top=False, pooling='avg', input_shape=None)\n",
        "train_gen = DataGenerator(dataset, batch_size=128)\n",
        "image_embeddings = model.predict(train_gen,verbose=1)\n",
        "print('image embeddings shape is',image_embeddings.shape)"
      ],
      "metadata": {
        "colab": {
          "base_uri": "https://localhost:8080/"
        },
        "id": "9Pblsku7AEK5",
        "outputId": "5ca0ff8a-d770-4dea-bfd4-1a43783e8d7d"
      },
      "execution_count": null,
      "outputs": [
        {
          "output_type": "stream",
          "name": "stdout",
          "text": [
            "268/268 [==============================] - 274s 1s/step\n",
            "image embeddings shape is (34250, 1280)\n"
          ]
        }
      ]
    },
    {
      "cell_type": "code",
      "source": [
        "KNN=50\n",
        "neighbors_model=NearestNeighbors(n_neighbors=KNN)\n",
        "nbrs=neighbors_model.fit(image_embeddings)\n",
        "img_distances_2, img_indices_2=nbrs.kneighbors(image_embeddings)"
      ],
      "metadata": {
        "id": "yadau1aEAKJu"
      },
      "execution_count": null,
      "outputs": []
    },
    {
      "cell_type": "code",
      "source": [
        "img_distances_2[1]"
      ],
      "metadata": {
        "colab": {
          "base_uri": "https://localhost:8080/"
        },
        "id": "NpGOHAc4Cz81",
        "outputId": "74a14725-e002-4031-b381-ee2446c42015"
      },
      "execution_count": null,
      "outputs": [
        {
          "output_type": "execute_result",
          "data": {
            "text/plain": [
              "array([ 0.       ,  5.8442917,  7.500262 ,  7.5753994,  8.393452 ,\n",
              "       10.459172 , 10.700116 , 10.99489  , 11.033879 , 11.0891285,\n",
              "       11.170837 , 11.26122  , 11.357184 , 11.676769 , 11.6907425,\n",
              "       11.713073 , 11.716344 , 11.774883 , 11.842573 , 11.853352 ,\n",
              "       11.886421 , 11.907582 , 11.922708 , 12.150696 , 12.173734 ,\n",
              "       12.1762905, 12.218568 , 12.27741  , 12.311471 , 12.322446 ,\n",
              "       12.329954 , 12.339579 , 12.362771 , 12.389143 , 12.423629 ,\n",
              "       12.423629 , 12.423629 , 12.423629 , 12.437028 , 12.4645195,\n",
              "       12.482451 , 12.500342 , 12.538233 , 12.579144 , 12.598452 ,\n",
              "       12.62552  , 12.681231 , 12.698728 , 12.698728 , 12.755719 ],\n",
              "      dtype=float32)"
            ]
          },
          "metadata": {},
          "execution_count": 33
        }
      ]
    },
    {
      "cell_type": "code",
      "execution_count": null,
      "metadata": {
        "colab": {
          "base_uri": "https://localhost:8080/",
          "height": 314
        },
        "id": "jFZY1PvJAMXw",
        "outputId": "3963118f-4916-42b8-98bb-9b12bcac6370"
      },
      "outputs": [
        {
          "output_type": "stream",
          "name": "stdout",
          "text": [
            "Currently F1 score at distance < 14: 0.1807691940610401\n",
            "Max F1 score 0.6467527679703687 at threshold < 7\n"
          ]
        },
        {
          "output_type": "display_data",
          "data": {
            "image/png": "[encoded data removed]",
            "text/plain": [
              "<Figure size 432x288 with 1 Axes>"
            ]
          },
          "metadata": {
            "needs_background": "light"
          }
        }
      ],
      "source": [
        "scores=[]\n",
        "threshold=np.arange(1, 15)\n",
        "for thresh in threshold:\n",
        "  idxs=[]\n",
        "  for i in range (img_indices_2.shape[0]):\n",
        "    idxs.append(img_indices_2[i][img_distances_2[i]<thresh].tolist())\n",
        "  pst=[]\n",
        "  for i in idxs:\n",
        "    pst.append(dataset.posting_id.iloc[i].tolist())\n",
        "  dataset['predictions']=pst\n",
        "  f1=[]\n",
        "  for i in range (len(dataset)):\n",
        "      a=len(np.intersect1d(dataset.iloc[i].target, dataset.iloc[i].predictions))\n",
        "      b=len(dataset.iloc[i].target) + len(dataset.iloc[i].predictions)\n",
        "      f1.append(2*a/b)\n",
        "  scores.append(np.mean(f1))\n",
        "  \n",
        "  clear_output (True)\n",
        "  print(f\"Currently F1 score at distance < {thresh}: {scores[-1]}\")\n",
        "  print (f\"Max F1 score {max(scores)} at threshold < {threshold[scores.index(max(scores))]}\")\n",
        "  plt.plot (threshold[:len(scores)], scores)\n",
        "  plt.xlabel(\"Threshold\")\n",
        "  plt.ylabel(\"F1 Score\")\n",
        "  plt.show()"
      ]
    },
    {
      "cell_type": "code",
      "source": [
        ""
      ],
      "metadata": {
        "id": "odsHKyP_AMQv"
      },
      "execution_count": null,
      "outputs": []
    },
    {
      "cell_type": "markdown",
      "metadata": {
        "id": "R9CbzNuv0Ete"
      },
      "source": [
        "# F1 Score"
      ]
    },
    {
      "cell_type": "code",
      "source": [
        "tmp = dataset.groupby('label_group').posting_id.agg('unique').to_dict()\n",
        "dataset['target'] = dataset.label_group.map(tmp)"
      ],
      "metadata": {
        "id": "S_pTKfhu2L2m"
      },
      "execution_count": null,
      "outputs": []
    },
    {
      "cell_type": "code",
      "execution_count": null,
      "metadata": {
        "id": "fAiCLiWhVMuu"
      },
      "outputs": [],
      "source": [
        "idxs=[]\n",
        "for i in range (img_indices.shape[0]):\n",
        "  idxs.append(img_indices[i][img_distances[i]<7].tolist())\n",
        "pst=[]\n",
        "for i in idxs:\n",
        "  pst.append(dataset.posting_id.iloc[i].tolist())\n",
        "dataset['img_predictions']=pst"
      ]
    },
    {
      "cell_type": "code",
      "source": [
        "idxs=[]\n",
        "for i in range (text_indices.shape[0]):\n",
        "  idxs.append(text_indices[i][text_distances[i]<0.9].tolist())\n",
        "pst=[]\n",
        "for i in idxs:\n",
        "  pst.append(dataset.posting_id.iloc[i].tolist())\n",
        "dataset['text_predictions']=pst"
      ],
      "metadata": {
        "id": "Mw-ua5XFMoE2"
      },
      "execution_count": null,
      "outputs": []
    },
    {
      "cell_type": "code",
      "source": [
        "dataset['predictions']=0\n",
        "for i in range (dataset.shape[0]):\n",
        "  dataset.predictions.iloc[i]=dataset.img_predictions.iloc[i]+dataset.text_predictions.iloc[i]\n",
        "  dataset.predictions.iloc[i]=np.unique(dataset.predictions.iloc[i])"
      ],
      "metadata": {
        "colab": {
          "base_uri": "https://localhost:8080/"
        },
        "id": "G9hEWS0JTWQ8",
        "outputId": "2eeb39b1-e53f-491d-9085-9e1b29c80156"
      },
      "execution_count": null,
      "outputs": [
        {
          "output_type": "stream",
          "name": "stderr",
          "text": [
            "/usr/local/lib/python3.7/dist-packages/pandas/core/indexing.py:670: SettingWithCopyWarning: \n",
            "A value is trying to be set on a copy of a slice from a DataFrame\n",
            "\n",
            "See the caveats in the documentation: https://pandas.pydata.org/pandas-docs/stable/user_guide/indexing.html#returning-a-view-versus-a-copy\n",
            "  iloc._setitem_with_indexer(indexer, value)\n"
          ]
        }
      ]
    },
    {
      "cell_type": "code",
      "source": [
        "dataset.head()"
      ],
      "metadata": {
        "colab": {
          "base_uri": "https://localhost:8080/",
          "height": 531
        },
        "id": "2XyYckLlRz88",
        "outputId": "b0e0b785-6420-4694-9a4d-0eaafb374b8f"
      },
      "execution_count": null,
      "outputs": [
        {
          "output_type": "execute_result",
          "data": {
            "text/html": [
              "\n",
              "  <div id=\"df-68b41f18-87ca-4328-a923-8e7f9519a57a\">\n",
              "    <div class=\"colab-df-container\">\n",
              "      <div>\n",
              "<style scoped>\n",
              "    .dataframe tbody tr th:only-of-type {\n",
              "        vertical-align: middle;\n",
              "    }\n",
              "\n",
              "    .dataframe tbody tr th {\n",
              "        vertical-align: top;\n",
              "    }\n",
              "\n",
              "    .dataframe thead th {\n",
              "        text-align: right;\n",
              "    }\n",
              "</style>\n",
              "<table border=\"1\" class=\"dataframe\">\n",
              "  <thead>\n",
              "    <tr style=\"text-align: right;\">\n",
              "      <th></th>\n",
              "      <th>posting_id</th>\n",
              "      <th>image</th>\n",
              "      <th>image_phash</th>\n",
              "      <th>title</th>\n",
              "      <th>label_group</th>\n",
              "      <th>predictions</th>\n",
              "      <th>target</th>\n",
              "      <th>img_predictions</th>\n",
              "      <th>text_predictions</th>\n",
              "    </tr>\n",
              "  </thead>\n",
              "  <tbody>\n",
              "    <tr>\n",
              "      <th>0</th>\n",
              "      <td>train_129225211</td>\n",
              "      <td>0000a68812bc7e98c42888dfb1c07da0.jpg</td>\n",
              "      <td>94974f937d4c2433</td>\n",
              "      <td>Paper Bag Victoria Secret</td>\n",
              "      <td>249114794</td>\n",
              "      <td>[train_129225211, train_2278313361]</td>\n",
              "      <td>[train_129225211, train_2278313361]</td>\n",
              "      <td>[train_129225211]</td>\n",
              "      <td>[train_2278313361, train_129225211]</td>\n",
              "    </tr>\n",
              "    <tr>\n",
              "      <th>1</th>\n",
              "      <td>train_3386243561</td>\n",
              "      <td>00039780dfc94d01db8676fe789ecd05.jpg</td>\n",
              "      <td>af3f9460c2838f0f</td>\n",
              "      <td>Double Tape 3M VHB 12 mm x 4,5 m ORIGINAL / DO...</td>\n",
              "      <td>2937985045</td>\n",
              "      <td>[train_1974987067, train_211200223, train_3386...</td>\n",
              "      <td>[train_3386243561, train_3423213080]</td>\n",
              "      <td>[train_3386243561, train_3423213080]</td>\n",
              "      <td>[train_3386243561, train_3423213080, train_860...</td>\n",
              "    </tr>\n",
              "    <tr>\n",
              "      <th>2</th>\n",
              "      <td>train_2288590299</td>\n",
              "      <td>000a190fdd715a2a36faed16e2c65df7.jpg</td>\n",
              "      <td>b94cb00ed3e50f78</td>\n",
              "      <td>Maling TTS Canned Pork Luncheon Meat 397 gr</td>\n",
              "      <td>2395904891</td>\n",
              "      <td>[train_2288590299, train_3803689425]</td>\n",
              "      <td>[train_2288590299, train_3803689425]</td>\n",
              "      <td>[train_2288590299]</td>\n",
              "      <td>[train_2288590299, train_3803689425]</td>\n",
              "    </tr>\n",
              "    <tr>\n",
              "      <th>3</th>\n",
              "      <td>train_2406599165</td>\n",
              "      <td>00117e4fc239b1b641ff08340b429633.jpg</td>\n",
              "      <td>8514fc58eafea283</td>\n",
              "      <td>Daster Batik Lengan pendek - Motif Acak / Camp...</td>\n",
              "      <td>4093212188</td>\n",
              "      <td>[train_1508100548, train_1744956981, train_204...</td>\n",
              "      <td>[train_2406599165, train_3342059966]</td>\n",
              "      <td>[train_2406599165]</td>\n",
              "      <td>[train_2406599165, train_1744956981, train_352...</td>\n",
              "    </tr>\n",
              "    <tr>\n",
              "      <th>4</th>\n",
              "      <td>train_3369186413</td>\n",
              "      <td>00136d1cf4edede0203f32f05f660588.jpg</td>\n",
              "      <td>a6f319f924ad708c</td>\n",
              "      <td>Nescafe \\xc3\\x89clair Latte 220ml</td>\n",
              "      <td>3648931069</td>\n",
              "      <td>[train_3369186413, train_921438619]</td>\n",
              "      <td>[train_3369186413, train_921438619]</td>\n",
              "      <td>[train_3369186413, train_921438619]</td>\n",
              "      <td>[train_3369186413]</td>\n",
              "    </tr>\n",
              "  </tbody>\n",
              "</table>\n",
              "</div>\n",
              "      <button class=\"colab-df-convert\" onclick=\"convertToInteractive('df-68b41f18-87ca-4328-a923-8e7f9519a57a')\"\n",
              "              title=\"Convert this dataframe to an interactive table.\"\n",
              "              style=\"display:none;\">\n",
              "        \n",
              "  <svg xmlns=\"http://www.w3.org/2000/svg\" height=\"24px\"viewBox=\"0 0 24 24\"\n",
              "       width=\"24px\">\n",
              "    <path d=\"M0 0h24v24H0V0z\" fill=\"none\"/>\n",
              "    <path d=\"M18.56 5.44l.94 2.06.94-2.06 2.06-.94-2.06-.94-.94-2.06-.94 2.06-2.06.94zm-11 1L8.5 8.5l.94-2.06 2.06-.94-2.06-.94L8.5 2.5l-.94 2.06-2.06.94zm10 10l.94 2.06.94-2.06 2.06-.94-2.06-.94-.94-2.06-.94 2.06-2.06.94z\"/><path d=\"M17.41 7.96l-1.37-1.37c-.4-.4-.92-.59-1.43-.59-.52 0-1.04.2-1.43.59L10.3 9.45l-7.72 7.72c-.78.78-.78 2.05 0 2.83L4 21.41c.39.39.9.59 1.41.59.51 0 1.02-.2 1.41-.59l7.78-7.78 2.81-2.81c.8-.78.8-2.07 0-2.86zM5.41 20L4 18.59l7.72-7.72 1.47 1.35L5.41 20z\"/>\n",
              "  </svg>\n",
              "      </button>\n",
              "      \n",
              "  <style>\n",
              "    .colab-df-container {\n",
              "      display:flex;\n",
              "      flex-wrap:wrap;\n",
              "      gap: 12px;\n",
              "    }\n",
              "\n",
              "    .colab-df-convert {\n",
              "      background-color: #E8F0FE;\n",
              "      border: none;\n",
              "      border-radius: 50%;\n",
              "      cursor: pointer;\n",
              "      display: none;\n",
              "      fill: #1967D2;\n",
              "      height: 32px;\n",
              "      padding: 0 0 0 0;\n",
              "      width: 32px;\n",
              "    }\n",
              "\n",
              "    .colab-df-convert:hover {\n",
              "      background-color: #E2EBFA;\n",
              "      box-shadow: 0px 1px 2px rgba(60, 64, 67, 0.3), 0px 1px 3px 1px rgba(60, 64, 67, 0.15);\n",
              "      fill: #174EA6;\n",
              "    }\n",
              "\n",
              "    [theme=dark] .colab-df-convert {\n",
              "      background-color: #3B4455;\n",
              "      fill: #D2E3FC;\n",
              "    }\n",
              "\n",
              "    [theme=dark] .colab-df-convert:hover {\n",
              "      background-color: #434B5C;\n",
              "      box-shadow: 0px 1px 3px 1px rgba(0, 0, 0, 0.15);\n",
              "      filter: drop-shadow(0px 1px 2px rgba(0, 0, 0, 0.3));\n",
              "      fill: #FFFFFF;\n",
              "    }\n",
              "  </style>\n",
              "\n",
              "      <script>\n",
              "        const buttonEl =\n",
              "          document.querySelector('#df-68b41f18-87ca-4328-a923-8e7f9519a57a button.colab-df-convert');\n",
              "        buttonEl.style.display =\n",
              "          google.colab.kernel.accessAllowed ? 'block' : 'none';\n",
              "\n",
              "        async function convertToInteractive(key) {\n",
              "          const element = document.querySelector('#df-68b41f18-87ca-4328-a923-8e7f9519a57a');\n",
              "          const dataTable =\n",
              "            await google.colab.kernel.invokeFunction('convertToInteractive',\n",
              "                                                     [key], {});\n",
              "          if (!dataTable) return;\n",
              "\n",
              "          const docLinkHtml = 'Like what you see? Visit the ' +\n",
              "            '<a target=\"_blank\" href=https://colab.research.google.com/notebooks/data_table.ipynb>data table notebook</a>'\n",
              "            + ' to learn more about interactive tables.';\n",
              "          element.innerHTML = '';\n",
              "          dataTable['output_type'] = 'display_data';\n",
              "          await google.colab.output.renderOutput(dataTable, element);\n",
              "          const docLink = document.createElement('div');\n",
              "          docLink.innerHTML = docLinkHtml;\n",
              "          element.appendChild(docLink);\n",
              "        }\n",
              "      </script>\n",
              "    </div>\n",
              "  </div>\n",
              "  "
            ],
            "text/plain": [
              "         posting_id  ...                                   text_predictions\n",
              "0   train_129225211  ...                [train_2278313361, train_129225211]\n",
              "1  train_3386243561  ...  [train_3386243561, train_3423213080, train_860...\n",
              "2  train_2288590299  ...               [train_2288590299, train_3803689425]\n",
              "3  train_2406599165  ...  [train_2406599165, train_1744956981, train_352...\n",
              "4  train_3369186413  ...                                 [train_3369186413]\n",
              "\n",
              "[5 rows x 9 columns]"
            ]
          },
          "metadata": {},
          "execution_count": 26
        }
      ]
    },
    {
      "cell_type": "code",
      "source": [
        "f1=[]\n",
        "for i in range (len(dataset)):\n",
        "    a=len(np.intersect1d(dataset.iloc[i].target, dataset.iloc[i].predictions))\n",
        "    b=len(dataset.iloc[i].target) + len(dataset.iloc[i].predictions)\n",
        "    f1.append(2*a/b)\n",
        "print (\"F1 Score: \", np.mean(f1))"
      ],
      "metadata": {
        "colab": {
          "base_uri": "https://localhost:8080/"
        },
        "id": "5dKcPETxVofp",
        "outputId": "99d080a7-d2b9-4c2c-a1ef-2c2e8aea4468"
      },
      "execution_count": null,
      "outputs": [
        {
          "output_type": "stream",
          "name": "stdout",
          "text": [
            "F1 Score:  0.7207172289806757\n"
          ]
        }
      ]
    },
    {
      "cell_type": "code",
      "source": [
        ""
      ],
      "metadata": {
        "id": "_TEIrowLVy05"
      },
      "execution_count": null,
      "outputs": []
    }
  ],
  "metadata": {
    "accelerator": "GPU",
    "colab": {
      "collapsed_sections": [],
      "machine_shape": "hm",
      "name": "TFIDF.ipynb",
      "provenance": []
    },
    "kernelspec": {
      "display_name": "Python 3",
      "language": "python",
      "name": "python3"
    },
    "language_info": {
      "codemirror_mode": {
        "name": "ipython",
        "version": 3
      },
      "file_extension": ".py",
      "mimetype": "text/x-python",
      "name": "python",
      "nbconvert_exporter": "python",
      "pygments_lexer": "ipython3",
      "version": "3.7.12"
    }
  },
  "nbformat": 4,
  "nbformat_minor": 0
}